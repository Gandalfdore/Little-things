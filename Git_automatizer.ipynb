{
 "cells": [
  {
   "cell_type": "code",
   "execution_count": 58,
   "id": "fc4e9187",
   "metadata": {},
   "outputs": [],
   "source": [
    "import git"
   ]
  },
  {
   "cell_type": "markdown",
   "id": "5913e388",
   "metadata": {},
   "source": [
    "# Clone repository script"
   ]
  },
  {
   "cell_type": "code",
   "execution_count": 59,
   "id": "4c75dbac",
   "metadata": {},
   "outputs": [],
   "source": [
    "git_url = \"The URL of your remote depository"\n",
    "repository_path = \"Project_clone\""
   ]
  },
  {
   "cell_type": "code",
   "execution_count": 62,
   "id": "9f7b84dc",
   "metadata": {},
   "outputs": [
    {
     "data": {
      "text/plain": [
       "<git.repo.base.Repo 'C:\\\\Users\\\\Smelly_Giraffe\\\\Desktop\\\\muons\\\\Project_clone\\\\.git'>"
      ]
     },
     "execution_count": 62,
     "metadata": {},
     "output_type": "execute_result"
    }
   ],
   "source": [
    "git.Repo.clone_from(git_url, repository_path)"
   ]
  },
  {
   "cell_type": "markdown",
   "id": "32b3e4a8",
   "metadata": {},
   "source": [
    "# Commit and push changes script"
   ]
  },
  {
   "cell_type": "code",
   "execution_count": 63,
   "id": "bb2199f5",
   "metadata": {},
   "outputs": [
    {
     "data": {
      "text/plain": [
       "[<git.remote.FetchInfo at 0x23d4fc29770>,\n",
       " <git.remote.FetchInfo at 0x23d4fc291d0>]"
      ]
     },
     "execution_count": 63,
     "metadata": {},
     "output_type": "execute_result"
    }
   ],
   "source": [
    "repository_path = \"Project_clone\"\n",
    "repo = git.Repo(repository_path)\n",
    "\n",
    "origin = repo.remote(\"origin\")  \n",
    "\n",
    "assert origin.exists()\n",
    "origin.fetch()"
   ]
  },
  {
   "cell_type": "code",
   "execution_count": 64,
   "id": "02e4338f",
   "metadata": {},
   "outputs": [
    {
     "data": {
      "text/plain": [
       "'https://github.com/Gandalfdore/Muon-detector-model'"
      ]
     },
     "execution_count": 64,
     "metadata": {},
     "output_type": "execute_result"
    }
   ],
   "source": [
    "repo_name = repo.remotes.origin.url.split('.git')[0]\n",
    "repo_name"
   ]
  },
  {
   "cell_type": "code",
   "execution_count": 93,
   "id": "8f6b8a42",
   "metadata": {},
   "outputs": [
    {
     "data": {
      "text/plain": [
       "<git.Head \"refs/heads/TestBranch\">"
      ]
     },
     "execution_count": 93,
     "metadata": {},
     "output_type": "execute_result"
    }
   ],
   "source": [
    "your_branch_name = 'TestBranch'  ### or put the name of a new branch\n",
    "new_branch = repo.create_head(your_branch_name, origin)  # replace prod with master/ main/ whatever you named your main branch\n",
    "new_branch.checkout()"
   ]
  },
  {
   "cell_type": "code",
   "execution_count": 94,
   "id": "0a9f4f3f",
   "metadata": {},
   "outputs": [],
   "source": [
    "f = open(\"Project_clone\\demofile.txt\", \"w\")\n",
    "f.write(\"some demofile content\")\n",
    "f.close()"
   ]
  },
  {
   "cell_type": "code",
   "execution_count": 95,
   "id": "e4a57169",
   "metadata": {},
   "outputs": [
    {
     "data": {
      "text/plain": [
       "['demofile.txt']"
      ]
     },
     "execution_count": 95,
     "metadata": {},
     "output_type": "execute_result"
    }
   ],
   "source": [
    "repo.untracked_files\n",
    "untracked_files = repo.untracked_files\n",
    "untracked_files"
   ]
  },
  {
   "cell_type": "code",
   "execution_count": 96,
   "id": "0e94a256",
   "metadata": {},
   "outputs": [
    {
     "name": "stdout",
     "output_type": "stream",
     "text": [
      "Commiting automatic changes to file demofile.txt to branch TestBranch\n"
     ]
    }
   ],
   "source": [
    "if len(untracked_files) != 0:\n",
    "    for i in untracked_files:\n",
    "        repo.index.add([i])  # in this case filename would be \"/User/some_user/some_dir/demofile.txt\"\n",
    "        repo.index.commit(\"Commiting automatic changes to file {0} to branch {1}\".format(i,your_branch_name))\n",
    "        print (\"Commiting automatic changes to file {0} to branch {1}\".format(i,your_branch_name))\n",
    "else:\n",
    "    print ('No untracked files.')"
   ]
  },
  {
   "cell_type": "code",
   "execution_count": 97,
   "id": "83d176b2",
   "metadata": {},
   "outputs": [
    {
     "data": {
      "text/plain": [
       "\"branch 'TestBranch' set up to track 'origin/TestBranch'.\""
      ]
     },
     "execution_count": 97,
     "metadata": {},
     "output_type": "execute_result"
    }
   ],
   "source": [
    "repo.git.push(\"--set-upstream\", origin, repo.head.ref)"
   ]
  },
  {
   "cell_type": "code",
   "execution_count": null,
   "id": "442df7c1",
   "metadata": {},
   "outputs": [],
   "source": []
  }
 ],
 "metadata": {
  "kernelspec": {
   "display_name": "Python 3",
   "language": "python",
   "name": "python3"
  },
  "language_info": {
   "codemirror_mode": {
    "name": "ipython",
    "version": 3
   },
   "file_extension": ".py",
   "mimetype": "text/x-python",
   "name": "python",
   "nbconvert_exporter": "python",
   "pygments_lexer": "ipython3",
   "version": "3.8.8"
  }
 },
 "nbformat": 4,
 "nbformat_minor": 5
}
