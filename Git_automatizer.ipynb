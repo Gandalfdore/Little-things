{
 "cells": [
  {
   "cell_type": "code",
   "execution_count": 1,
   "id": "fc4e9187",
   "metadata": {},
   "outputs": [],
   "source": [
    "import git"
   ]
  },
  {
   "cell_type": "markdown",
   "id": "5913e388",
   "metadata": {},
   "source": [
    "# Clone repository script"
   ]
  },
  {
   "cell_type": "code",
   "execution_count": 2,
   "id": "4c75dbac",
   "metadata": {},
   "outputs": [],
   "source": [
    "git_url = \"https://github.com/Gandalfdore/Muon-detector-model\"\n",
    "repository_path = \"Project_clone\""
   ]
  },
  {
   "cell_type": "code",
   "execution_count": 3,
   "id": "9f7b84dc",
   "metadata": {},
   "outputs": [
    {
     "data": {
      "text/plain": [
       "<git.repo.base.Repo 'C:\\\\Users\\\\Smelly_Giraffe\\\\Desktop\\\\muons\\\\Project_clone\\\\.git'>"
      ]
     },
     "execution_count": 3,
     "metadata": {},
     "output_type": "execute_result"
    }
   ],
   "source": [
    "git.Repo.clone_from(git_url, repository_path)"
   ]
  },
  {
   "cell_type": "markdown",
   "id": "32b3e4a8",
   "metadata": {},
   "source": [
    "# Commit and push changes script"
   ]
  },
  {
   "cell_type": "code",
   "execution_count": 13,
   "id": "bb2199f5",
   "metadata": {},
   "outputs": [
    {
     "data": {
      "text/plain": [
       "[<git.remote.FetchInfo at 0x29d5d90d770>,\n",
       " <git.remote.FetchInfo at 0x29d5d916400>,\n",
       " <git.remote.FetchInfo at 0x29d5d9164f0>]"
      ]
     },
     "execution_count": 13,
     "metadata": {},
     "output_type": "execute_result"
    }
   ],
   "source": [
    "repository_path = \"Project_clone\"\n",
    "repo = git.Repo(repository_path)\n",
    "\n",
    "origin = repo.remote(\"origin\")  \n",
    "\n",
    "assert origin.exists()\n",
    "origin.fetch()"
   ]
  },
  {
   "cell_type": "code",
   "execution_count": 14,
   "id": "02e4338f",
   "metadata": {},
   "outputs": [
    {
     "data": {
      "text/plain": [
       "'https://github.com/Gandalfdore/Muon-detector-model'"
      ]
     },
     "execution_count": 14,
     "metadata": {},
     "output_type": "execute_result"
    }
   ],
   "source": [
    "repo_name = repo.remotes.origin.url.split('.git')[0]\n",
    "repo_name"
   ]
  },
  {
   "cell_type": "code",
   "execution_count": 15,
   "id": "8f6b8a42",
   "metadata": {},
   "outputs": [
    {
     "data": {
      "text/plain": [
       "<git.Head \"refs/heads/main\">"
      ]
     },
     "execution_count": 15,
     "metadata": {},
     "output_type": "execute_result"
    }
   ],
   "source": [
    "your_branch_name = 'main'  ### or put the name of a new branch\n",
    "new_branch = repo.create_head(your_branch_name, origin)  # replace prod with master/ main/ whatever you named your main branch\n",
    "new_branch.checkout()"
   ]
  },
  {
   "cell_type": "code",
   "execution_count": 17,
   "id": "e4a57169",
   "metadata": {},
   "outputs": [
    {
     "data": {
      "text/plain": [
       "['.ipynb_checkpoints/Dataworks-checkpoint.ipynb']"
      ]
     },
     "execution_count": 17,
     "metadata": {},
     "output_type": "execute_result"
    }
   ],
   "source": [
    "repo.untracked_files\n",
    "untracked_files = repo.untracked_files\n",
    "untracked_files"
   ]
  },
  {
   "cell_type": "code",
   "execution_count": 18,
   "id": "0e94a256",
   "metadata": {},
   "outputs": [
    {
     "name": "stdout",
     "output_type": "stream",
     "text": [
      "Commiting automatic changes to file .ipynb_checkpoints/Dataworks-checkpoint.ipynb to branch main\n"
     ]
    }
   ],
   "source": [
    "if len(untracked_files) != 0:\n",
    "    for i in untracked_files:\n",
    "        repo.index.add([i])  # in this case filename would be \"/User/some_user/some_dir/demofile.txt\"\n",
    "        repo.index.commit(\"Commiting automatic changes to file {0} to branch {1}\".format(i,your_branch_name))\n",
    "        print (\"Commiting automatic changes to file {0} to branch {1}\".format(i,your_branch_name))\n",
    "else:\n",
    "    print ('No untracked files.')"
   ]
  },
  {
   "cell_type": "code",
   "execution_count": 19,
   "id": "bbfb4afa",
   "metadata": {},
   "outputs": [
    {
     "data": {
      "text/plain": [
       "<git.Commit \"f698d88537e20963f677015d4a3fd882d81c2514\">"
      ]
     },
     "execution_count": 19,
     "metadata": {},
     "output_type": "execute_result"
    }
   ],
   "source": [
    "# Manual commit\n",
    "repo.index.add(['Dataworks.ipynb'])  # in this case filename would be \"/User/some_user/some_dir/demofile.txt\"\n",
    "repo.index.commit(\"Commiting automatic changes to file {0} to branch {1}\".format(i,your_branch_name))"
   ]
  },
  {
   "cell_type": "code",
   "execution_count": 20,
   "id": "83d176b2",
   "metadata": {},
   "outputs": [
    {
     "data": {
      "text/plain": [
       "\"branch 'main' set up to track 'origin/main'.\""
      ]
     },
     "execution_count": 20,
     "metadata": {},
     "output_type": "execute_result"
    }
   ],
   "source": [
    "repo.git.push(\"--set-upstream\", origin, repo.head.ref)"
   ]
  },
  {
   "cell_type": "code",
   "execution_count": null,
   "id": "442df7c1",
   "metadata": {},
   "outputs": [],
   "source": []
  }
 ],
 "metadata": {
  "kernelspec": {
   "display_name": "Python 3",
   "language": "python",
   "name": "python3"
  },
  "language_info": {
   "codemirror_mode": {
    "name": "ipython",
    "version": 3
   },
   "file_extension": ".py",
   "mimetype": "text/x-python",
   "name": "python",
   "nbconvert_exporter": "python",
   "pygments_lexer": "ipython3",
   "version": "3.8.8"
  }
 },
 "nbformat": 4,
 "nbformat_minor": 5
}
